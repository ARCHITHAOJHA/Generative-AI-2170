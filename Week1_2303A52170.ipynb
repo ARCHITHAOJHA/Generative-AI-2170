{
  "nbformat": 4,
  "nbformat_minor": 0,
  "metadata": {
    "colab": {
      "provenance": []
    },
    "kernelspec": {
      "name": "python3",
      "display_name": "Python 3"
    },
    "language_info": {
      "name": "python"
    }
  },
  "cells": [
    {
      "cell_type": "markdown",
      "source": [
        "ARCHITHA OJHA\n",
        "\n",
        "2303A52170"
      ],
      "metadata": {
        "id": "HVTYa-3YAyoq"
      }
    },
    {
      "cell_type": "markdown",
      "source": [
        "1. Write Python code from scratch to find error metrics of deep learning model. Actual values and deep learning model predicted values are shown in Table 1. Also compare the results with the outcomes of libraries\n",
        "              YActual       YPred\n",
        "                20           20.5\n",
        "                30           30.3\n",
        "                40           40.2\n",
        "                50           50.6\n",
        "                60           60.7\n",
        "Tabela 1: YActual Vs. YPred"
      ],
      "metadata": {
        "id": "yYIxNzh9AbPW"
      }
    },
    {
      "cell_type": "code",
      "source": [
        "import numpy as np\n",
        "from sklearn.metrics import mean_absolute_error, mean_squared_error, r2_score\n",
        "\n",
        "\n",
        "y_actual = np.array([20, 30, 40, 50, 60])\n",
        "y_pred = np.array([20.5, 30.3, 40.2, 50.6, 60.7])\n",
        "\n",
        "# 1. Mean Absolute Error (MAE)\n",
        "mae = np.mean(np.abs(y_actual - y_pred))\n",
        "\n",
        "# 2. Mean Squared Error (MSE)\n",
        "mse = np.mean((y_actual - y_pred) ** 2)\n",
        "\n",
        "# 3. Root Mean Squared Error (RMSE)\n",
        "rmse = np.sqrt(mse)\n",
        "\n",
        "# 4. R-squared (R2 Score)\n",
        "r2 = r2_score(y_actual, y_pred)\n",
        "\n",
        "# Output the results\n",
        "print(f\"Mean Absolute Error (MAE): {mae}\")\n",
        "print(f\"Mean Squared Error (MSE): {mse}\")\n",
        "print(f\"Root Mean Squared Error (RMSE): {rmse}\")\n",
        "print(f\"R-squared (R2): {r2}\")\n",
        "\n",
        "# Comparing with sklearn metrics\n",
        "print(\"\\nComparison with scikit-learn metrics:\")\n",
        "print(f\"MAE (sklearn): {mean_absolute_error(y_actual, y_pred)}\")\n",
        "print(f\"MSE (sklearn): {mean_squared_error(y_actual, y_pred)}\")\n",
        "print(f\"RMSE (sklearn): {np.sqrt(mean_squared_error(y_actual, y_pred))}\")\n",
        "print(f\"R2 (sklearn): {r2_score(y_actual, y_pred)}\")"
      ],
      "metadata": {
        "colab": {
          "base_uri": "https://localhost:8080/"
        },
        "id": "qhPQrTfpAfSX",
        "outputId": "6f1acaea-a205-4d99-8ab2-d8aeeaafd169"
      },
      "execution_count": null,
      "outputs": [
        {
          "output_type": "stream",
          "name": "stdout",
          "text": [
            "Mean Absolute Error (MAE): 0.4600000000000016\n",
            "Mean Squared Error (MSE): 0.24600000000000147\n",
            "Root Mean Squared Error (RMSE): 0.49598387070549127\n",
            "R-squared (R2): 0.99877\n",
            "\n",
            "Comparison with scikit-learn metrics:\n",
            "MAE (sklearn): 0.4600000000000016\n",
            "MSE (sklearn): 0.24600000000000147\n",
            "RMSE (sklearn): 0.49598387070549127\n",
            "R2 (sklearn): 0.99877\n"
          ]
        }
      ]
    }
  ]
}